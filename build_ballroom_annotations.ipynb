{
 "cells": [
  {
   "cell_type": "code",
   "execution_count": 4,
   "metadata": {},
   "outputs": [],
   "source": [
    "import os\n",
    "import pandas as pd\n",
    "import numpy as np\n",
    "\n",
    "ballroom_annotations_path = '/import/c4dm-datasets/ballroom/jku-beat-annotations'\n",
    "\n",
    "rows = []\n",
    "\n",
    "for filename in os.listdir(ballroom_annotations_path):\n",
    "    if filename.endswith('.beats'):\n",
    "        beat_times = []\n",
    "        downbeat_times = []\n",
    "        file_name = filename.split('.')[0]\n",
    "        with open(os.path.join(ballroom_annotations_path, filename), 'r') as f:\n",
    "            lines = f.readlines()\n",
    "            for line in lines:\n",
    "                time, beat = line.split()\n",
    "                beat_times.append(float(time))\n",
    "                if beat == '1':\n",
    "                    downbeat_times.append(float(time))\n",
    "            rows.append({\n",
    "                'file_name': file_name+'.wav',\n",
    "                'beats': np.array(beat_times),\n",
    "                'downbeats': np.array(downbeat_times),\n",
    "            })\n",
    "\n",
    "\n",
    "df = pd.DataFrame(rows)    \n",
    "        "
   ]
  },
  {
   "cell_type": "code",
   "execution_count": 6,
   "metadata": {},
   "outputs": [],
   "source": [
    "# df to json then save\n",
    "df.to_json('data/ballroom_annotations.json', orient='records')"
   ]
  },
  {
   "cell_type": "code",
   "execution_count": null,
   "metadata": {},
   "outputs": [],
   "source": []
  }
 ],
 "metadata": {
  "kernelspec": {
   "display_name": "MuMRVQ",
   "language": "python",
   "name": "python3"
  },
  "language_info": {
   "codemirror_mode": {
    "name": "ipython",
    "version": 3
   },
   "file_extension": ".py",
   "mimetype": "text/x-python",
   "name": "python",
   "nbconvert_exporter": "python",
   "pygments_lexer": "ipython3",
   "version": "3.9.18"
  }
 },
 "nbformat": 4,
 "nbformat_minor": 2
}
